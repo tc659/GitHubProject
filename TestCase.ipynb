{
 "cells": [
  {
   "cell_type": "code",
   "execution_count": null,
   "id": "ef297125",
   "metadata": {},
   "outputs": [],
   "source": [
    "u = 7\n",
    "o = 7\n"
   ]
  },
  {
   "cell_type": "code",
   "execution_count": null,
   "id": "b8aac2eb",
   "metadata": {},
   "outputs": [],
   "source": [
    "k = u+o/1e-6\n",
    "#0914\n",
    "#0914-2"
   ]
  }
 ],
 "metadata": {
  "kernelspec": {
   "display_name": "Python 3",
   "language": "python",
   "name": "python3"
  },
  "language_info": {
   "codemirror_mode": {
    "name": "ipython",
    "version": 3
   },
   "file_extension": ".py",
   "mimetype": "text/x-python",
   "name": "python",
   "nbconvert_exporter": "python",
   "pygments_lexer": "ipython3",
   "version": "3.6.13"
  }
 },
 "nbformat": 4,
 "nbformat_minor": 5
}
